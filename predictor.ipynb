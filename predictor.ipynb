{
 "cells": [
  {
   "cell_type": "code",
   "execution_count": 42,
   "metadata": {},
   "outputs": [],
   "source": [
    "# importing libraries\n",
    "import numpy as np\n",
    "import pandas as pd \n",
    "import matplotlib.pyplot as plt \n",
    "import seaborn as sns\n",
    "%matplotlib inline"
   ]
  },
  {
   "cell_type": "code",
   "execution_count": 43,
   "metadata": {},
   "outputs": [],
   "source": [
    "# reading data into the dataframe\n",
    "df = pd.read_csv('data.csv')"
   ]
  },
  {
   "cell_type": "code",
   "execution_count": 44,
   "metadata": {},
   "outputs": [
    {
     "data": {
      "text/html": [
       "<div>\n",
       "<style scoped>\n",
       "    .dataframe tbody tr th:only-of-type {\n",
       "        vertical-align: middle;\n",
       "    }\n",
       "\n",
       "    .dataframe tbody tr th {\n",
       "        vertical-align: top;\n",
       "    }\n",
       "\n",
       "    .dataframe thead th {\n",
       "        text-align: right;\n",
       "    }\n",
       "</style>\n",
       "<table border=\"1\" class=\"dataframe\">\n",
       "  <thead>\n",
       "    <tr style=\"text-align: right;\">\n",
       "      <th></th>\n",
       "      <th>Age</th>\n",
       "      <th>Unnamed: 3</th>\n",
       "      <th>Tumor Size</th>\n",
       "      <th>Regional Node Examined</th>\n",
       "      <th>Reginol Node Positive</th>\n",
       "      <th>Survival Months</th>\n",
       "      <th>survival_period</th>\n",
       "      <th>Race_Black</th>\n",
       "      <th>Race_Other (American Indian/AK Native, Asian/Pacific Islander)</th>\n",
       "      <th>Race_White</th>\n",
       "      <th>...</th>\n",
       "      <th>Grade_Undifferentiated; anaplastic; Grade IV</th>\n",
       "      <th>Grade_Well differentiated; Grade I</th>\n",
       "      <th>A Stage_Distant</th>\n",
       "      <th>A Stage_Regional</th>\n",
       "      <th>Estrogen Status_Negative</th>\n",
       "      <th>Estrogen Status_Positive</th>\n",
       "      <th>Progesterone Status_Negative</th>\n",
       "      <th>Progesterone Status_Positive</th>\n",
       "      <th>Status_Alive</th>\n",
       "      <th>Status_Dead</th>\n",
       "    </tr>\n",
       "  </thead>\n",
       "  <tbody>\n",
       "    <tr>\n",
       "      <th>0</th>\n",
       "      <td>43</td>\n",
       "      <td>NaN</td>\n",
       "      <td>40</td>\n",
       "      <td>19</td>\n",
       "      <td>11</td>\n",
       "      <td>1</td>\n",
       "      <td>1.0</td>\n",
       "      <td>0</td>\n",
       "      <td>1</td>\n",
       "      <td>0</td>\n",
       "      <td>...</td>\n",
       "      <td>0</td>\n",
       "      <td>0</td>\n",
       "      <td>0</td>\n",
       "      <td>1</td>\n",
       "      <td>0</td>\n",
       "      <td>1</td>\n",
       "      <td>0</td>\n",
       "      <td>1</td>\n",
       "      <td>1</td>\n",
       "      <td>0</td>\n",
       "    </tr>\n",
       "    <tr>\n",
       "      <th>1</th>\n",
       "      <td>47</td>\n",
       "      <td>NaN</td>\n",
       "      <td>45</td>\n",
       "      <td>25</td>\n",
       "      <td>9</td>\n",
       "      <td>2</td>\n",
       "      <td>1.0</td>\n",
       "      <td>0</td>\n",
       "      <td>1</td>\n",
       "      <td>0</td>\n",
       "      <td>...</td>\n",
       "      <td>0</td>\n",
       "      <td>0</td>\n",
       "      <td>0</td>\n",
       "      <td>1</td>\n",
       "      <td>0</td>\n",
       "      <td>1</td>\n",
       "      <td>0</td>\n",
       "      <td>1</td>\n",
       "      <td>1</td>\n",
       "      <td>0</td>\n",
       "    </tr>\n",
       "    <tr>\n",
       "      <th>2</th>\n",
       "      <td>67</td>\n",
       "      <td>NaN</td>\n",
       "      <td>25</td>\n",
       "      <td>4</td>\n",
       "      <td>1</td>\n",
       "      <td>2</td>\n",
       "      <td>1.0</td>\n",
       "      <td>0</td>\n",
       "      <td>0</td>\n",
       "      <td>1</td>\n",
       "      <td>...</td>\n",
       "      <td>0</td>\n",
       "      <td>0</td>\n",
       "      <td>0</td>\n",
       "      <td>1</td>\n",
       "      <td>0</td>\n",
       "      <td>1</td>\n",
       "      <td>0</td>\n",
       "      <td>1</td>\n",
       "      <td>0</td>\n",
       "      <td>1</td>\n",
       "    </tr>\n",
       "    <tr>\n",
       "      <th>3</th>\n",
       "      <td>46</td>\n",
       "      <td>NaN</td>\n",
       "      <td>19</td>\n",
       "      <td>26</td>\n",
       "      <td>1</td>\n",
       "      <td>2</td>\n",
       "      <td>1.0</td>\n",
       "      <td>0</td>\n",
       "      <td>0</td>\n",
       "      <td>1</td>\n",
       "      <td>...</td>\n",
       "      <td>0</td>\n",
       "      <td>0</td>\n",
       "      <td>0</td>\n",
       "      <td>1</td>\n",
       "      <td>0</td>\n",
       "      <td>1</td>\n",
       "      <td>0</td>\n",
       "      <td>1</td>\n",
       "      <td>0</td>\n",
       "      <td>1</td>\n",
       "    </tr>\n",
       "    <tr>\n",
       "      <th>4</th>\n",
       "      <td>63</td>\n",
       "      <td>NaN</td>\n",
       "      <td>35</td>\n",
       "      <td>21</td>\n",
       "      <td>5</td>\n",
       "      <td>3</td>\n",
       "      <td>1.0</td>\n",
       "      <td>0</td>\n",
       "      <td>0</td>\n",
       "      <td>1</td>\n",
       "      <td>...</td>\n",
       "      <td>0</td>\n",
       "      <td>0</td>\n",
       "      <td>0</td>\n",
       "      <td>1</td>\n",
       "      <td>0</td>\n",
       "      <td>1</td>\n",
       "      <td>0</td>\n",
       "      <td>1</td>\n",
       "      <td>0</td>\n",
       "      <td>1</td>\n",
       "    </tr>\n",
       "  </tbody>\n",
       "</table>\n",
       "<p>5 rows × 39 columns</p>\n",
       "</div>"
      ],
      "text/plain": [
       "   Age  Unnamed: 3  Tumor Size  Regional Node Examined  Reginol Node Positive  \\\n",
       "0   43         NaN          40                      19                     11   \n",
       "1   47         NaN          45                      25                      9   \n",
       "2   67         NaN          25                       4                      1   \n",
       "3   46         NaN          19                      26                      1   \n",
       "4   63         NaN          35                      21                      5   \n",
       "\n",
       "   Survival Months  survival_period  Race_Black  \\\n",
       "0                1              1.0           0   \n",
       "1                2              1.0           0   \n",
       "2                2              1.0           0   \n",
       "3                2              1.0           0   \n",
       "4                3              1.0           0   \n",
       "\n",
       "   Race_Other (American Indian/AK Native, Asian/Pacific Islander)  Race_White  \\\n",
       "0                                                  1                        0   \n",
       "1                                                  1                        0   \n",
       "2                                                  0                        1   \n",
       "3                                                  0                        1   \n",
       "4                                                  0                        1   \n",
       "\n",
       "   ...  Grade_Undifferentiated; anaplastic; Grade IV  \\\n",
       "0  ...                                             0   \n",
       "1  ...                                             0   \n",
       "2  ...                                             0   \n",
       "3  ...                                             0   \n",
       "4  ...                                             0   \n",
       "\n",
       "   Grade_Well differentiated; Grade I  A Stage_Distant  A Stage_Regional  \\\n",
       "0                                   0                0                 1   \n",
       "1                                   0                0                 1   \n",
       "2                                   0                0                 1   \n",
       "3                                   0                0                 1   \n",
       "4                                   0                0                 1   \n",
       "\n",
       "   Estrogen Status_Negative  Estrogen Status_Positive  \\\n",
       "0                         0                         1   \n",
       "1                         0                         1   \n",
       "2                         0                         1   \n",
       "3                         0                         1   \n",
       "4                         0                         1   \n",
       "\n",
       "   Progesterone Status_Negative  Progesterone Status_Positive  Status_Alive  \\\n",
       "0                             0                             1             1   \n",
       "1                             0                             1             1   \n",
       "2                             0                             1             0   \n",
       "3                             0                             1             0   \n",
       "4                             0                             1             0   \n",
       "\n",
       "   Status_Dead  \n",
       "0            0  \n",
       "1            0  \n",
       "2            1  \n",
       "3            1  \n",
       "4            1  \n",
       "\n",
       "[5 rows x 39 columns]"
      ]
     },
     "execution_count": 44,
     "metadata": {},
     "output_type": "execute_result"
    }
   ],
   "source": [
    "# displaying first five rows\n",
    "df.head()"
   ]
  },
  {
   "cell_type": "code",
   "execution_count": 45,
   "metadata": {},
   "outputs": [
    {
     "data": {
      "text/plain": [
       "(4024, 39)"
      ]
     },
     "execution_count": 45,
     "metadata": {},
     "output_type": "execute_result"
    }
   ],
   "source": [
    "# shape of the dataframe\n",
    "df.shape"
   ]
  },
  {
   "cell_type": "code",
   "execution_count": 46,
   "metadata": {},
   "outputs": [
    {
     "name": "stdout",
     "output_type": "stream",
     "text": [
      "<class 'pandas.core.frame.DataFrame'>\n",
      "RangeIndex: 4024 entries, 0 to 4023\n",
      "Data columns (total 39 columns):\n",
      " #   Column                                                          Non-Null Count  Dtype  \n",
      "---  ------                                                          --------------  -----  \n",
      " 0   Age                                                             4024 non-null   int64  \n",
      " 1   Unnamed: 3                                                      0 non-null      float64\n",
      " 2   Tumor Size                                                      4024 non-null   int64  \n",
      " 3   Regional Node Examined                                          4024 non-null   int64  \n",
      " 4   Reginol Node Positive                                           4024 non-null   int64  \n",
      " 5   Survival Months                                                 4024 non-null   int64  \n",
      " 6   survival_period                                                 3396 non-null   float64\n",
      " 7   Race_Black                                                      4024 non-null   int64  \n",
      " 8   Race_Other (American Indian/AK Native, Asian/Pacific Islander)  4024 non-null   int64  \n",
      " 9   Race_White                                                      4024 non-null   int64  \n",
      " 10  Marital Status_Divorced                                         4024 non-null   int64  \n",
      " 11  Marital Status_Married (including common law)                   4024 non-null   int64  \n",
      " 12  Marital Status_Separated                                        4024 non-null   int64  \n",
      " 13  Marital Status_Single (never married)                           4024 non-null   int64  \n",
      " 14  Marital Status_Widowed                                          4024 non-null   int64  \n",
      " 15  T Stage_T1                                                      4024 non-null   int64  \n",
      " 16  T Stage_T2                                                      4024 non-null   int64  \n",
      " 17  T Stage_T3                                                      4024 non-null   int64  \n",
      " 18  T Stage_T4                                                      4024 non-null   int64  \n",
      " 19  N Stage_N1                                                      4024 non-null   int64  \n",
      " 20  N Stage_N2                                                      4024 non-null   int64  \n",
      " 21  N Stage_N3                                                      4024 non-null   int64  \n",
      " 22  6th Stage_IIA                                                   4024 non-null   int64  \n",
      " 23  6th Stage_IIB                                                   4024 non-null   int64  \n",
      " 24  6th Stage_IIIA                                                  4024 non-null   int64  \n",
      " 25  6th Stage_IIIB                                                  4024 non-null   int64  \n",
      " 26  6th Stage_IIIC                                                  4024 non-null   int64  \n",
      " 27  Grade_Moderately differentiated; Grade II                       4024 non-null   int64  \n",
      " 28  Grade_Poorly differentiated; Grade III                          4024 non-null   int64  \n",
      " 29  Grade_Undifferentiated; anaplastic; Grade IV                    4024 non-null   int64  \n",
      " 30  Grade_Well differentiated; Grade I                              4024 non-null   int64  \n",
      " 31  A Stage_Distant                                                 4024 non-null   int64  \n",
      " 32  A Stage_Regional                                                4024 non-null   int64  \n",
      " 33  Estrogen Status_Negative                                        4024 non-null   int64  \n",
      " 34  Estrogen Status_Positive                                        4024 non-null   int64  \n",
      " 35  Progesterone Status_Negative                                    4024 non-null   int64  \n",
      " 36  Progesterone Status_Positive                                    4024 non-null   int64  \n",
      " 37  Status_Alive                                                    4024 non-null   int64  \n",
      " 38  Status_Dead                                                     4024 non-null   int64  \n",
      "dtypes: float64(2), int64(37)\n",
      "memory usage: 1.2 MB\n"
     ]
    }
   ],
   "source": [
    "# concise summary of dataframe\n",
    "df.info()"
   ]
  },
  {
   "cell_type": "code",
   "execution_count": 47,
   "metadata": {},
   "outputs": [
    {
     "data": {
      "text/plain": [
       "Index(['Age', 'Unnamed: 3', 'Tumor Size', 'Regional Node Examined',\n",
       "       'Reginol Node Positive', 'Survival Months', 'survival_period',\n",
       "       'Race_Black',\n",
       "       'Race_Other (American Indian/AK Native, Asian/Pacific Islander)',\n",
       "       'Race_White', 'Marital Status_Divorced',\n",
       "       'Marital Status_Married (including common law)',\n",
       "       'Marital Status_Separated', 'Marital Status_Single (never married)',\n",
       "       'Marital Status_Widowed', 'T Stage_T1', 'T Stage_T2', 'T Stage_T3',\n",
       "       'T Stage_T4', 'N Stage_N1', 'N Stage_N2', 'N Stage_N3', '6th Stage_IIA',\n",
       "       '6th Stage_IIB', '6th Stage_IIIA', '6th Stage_IIIB', '6th Stage_IIIC',\n",
       "       'Grade_Moderately differentiated; Grade II',\n",
       "       'Grade_Poorly differentiated; Grade III',\n",
       "       'Grade_Undifferentiated; anaplastic; Grade IV',\n",
       "       'Grade_Well differentiated; Grade I', 'A Stage_Distant',\n",
       "       'A Stage_Regional', 'Estrogen Status_Negative',\n",
       "       'Estrogen Status_Positive', 'Progesterone Status_Negative',\n",
       "       'Progesterone Status_Positive', 'Status_Alive', 'Status_Dead'],\n",
       "      dtype='object')"
      ]
     },
     "execution_count": 47,
     "metadata": {},
     "output_type": "execute_result"
    }
   ],
   "source": [
    "# column names\n",
    "df.columns"
   ]
  },
  {
   "cell_type": "code",
   "execution_count": 48,
   "metadata": {},
   "outputs": [],
   "source": [
    "# dropping unnecessary column\n",
    "df.drop('Unnamed: 3',axis=1, inplace=True)"
   ]
  },
  {
   "cell_type": "code",
   "execution_count": 49,
   "metadata": {},
   "outputs": [
    {
     "data": {
      "text/plain": [
       "Age                                                                 0\n",
       "Tumor Size                                                          0\n",
       "Regional Node Examined                                              0\n",
       "Reginol Node Positive                                               0\n",
       "Survival Months                                                     0\n",
       "survival_period                                                   628\n",
       "Race_Black                                                          0\n",
       "Race_Other (American Indian/AK Native, Asian/Pacific Islander)      0\n",
       "Race_White                                                          0\n",
       "Marital Status_Divorced                                             0\n",
       "Marital Status_Married (including common law)                       0\n",
       "Marital Status_Separated                                            0\n",
       "Marital Status_Single (never married)                               0\n",
       "Marital Status_Widowed                                              0\n",
       "T Stage_T1                                                          0\n",
       "T Stage_T2                                                          0\n",
       "T Stage_T3                                                          0\n",
       "T Stage_T4                                                          0\n",
       "N Stage_N1                                                          0\n",
       "N Stage_N2                                                          0\n",
       "N Stage_N3                                                          0\n",
       "6th Stage_IIA                                                       0\n",
       "6th Stage_IIB                                                       0\n",
       "6th Stage_IIIA                                                      0\n",
       "6th Stage_IIIB                                                      0\n",
       "6th Stage_IIIC                                                      0\n",
       "Grade_Moderately differentiated; Grade II                           0\n",
       "Grade_Poorly differentiated; Grade III                              0\n",
       "Grade_Undifferentiated; anaplastic; Grade IV                        0\n",
       "Grade_Well differentiated; Grade I                                  0\n",
       "A Stage_Distant                                                     0\n",
       "A Stage_Regional                                                    0\n",
       "Estrogen Status_Negative                                            0\n",
       "Estrogen Status_Positive                                            0\n",
       "Progesterone Status_Negative                                        0\n",
       "Progesterone Status_Positive                                        0\n",
       "Status_Alive                                                        0\n",
       "Status_Dead                                                         0\n",
       "dtype: int64"
      ]
     },
     "execution_count": 49,
     "metadata": {},
     "output_type": "execute_result"
    }
   ],
   "source": [
    "# checking for null values\n",
    "df.isnull().sum()"
   ]
  },
  {
   "cell_type": "code",
   "execution_count": 50,
   "metadata": {},
   "outputs": [],
   "source": [
    "# dropping the null values in 'survival_period'\n",
    "df = df.dropna(subset=['survival_period'])"
   ]
  },
  {
   "cell_type": "code",
   "execution_count": 51,
   "metadata": {},
   "outputs": [
    {
     "data": {
      "text/plain": [
       "Age                                                               0\n",
       "Tumor Size                                                        0\n",
       "Regional Node Examined                                            0\n",
       "Reginol Node Positive                                             0\n",
       "Survival Months                                                   0\n",
       "survival_period                                                   0\n",
       "Race_Black                                                        0\n",
       "Race_Other (American Indian/AK Native, Asian/Pacific Islander)    0\n",
       "Race_White                                                        0\n",
       "Marital Status_Divorced                                           0\n",
       "Marital Status_Married (including common law)                     0\n",
       "Marital Status_Separated                                          0\n",
       "Marital Status_Single (never married)                             0\n",
       "Marital Status_Widowed                                            0\n",
       "T Stage_T1                                                        0\n",
       "T Stage_T2                                                        0\n",
       "T Stage_T3                                                        0\n",
       "T Stage_T4                                                        0\n",
       "N Stage_N1                                                        0\n",
       "N Stage_N2                                                        0\n",
       "N Stage_N3                                                        0\n",
       "6th Stage_IIA                                                     0\n",
       "6th Stage_IIB                                                     0\n",
       "6th Stage_IIIA                                                    0\n",
       "6th Stage_IIIB                                                    0\n",
       "6th Stage_IIIC                                                    0\n",
       "Grade_Moderately differentiated; Grade II                         0\n",
       "Grade_Poorly differentiated; Grade III                            0\n",
       "Grade_Undifferentiated; anaplastic; Grade IV                      0\n",
       "Grade_Well differentiated; Grade I                                0\n",
       "A Stage_Distant                                                   0\n",
       "A Stage_Regional                                                  0\n",
       "Estrogen Status_Negative                                          0\n",
       "Estrogen Status_Positive                                          0\n",
       "Progesterone Status_Negative                                      0\n",
       "Progesterone Status_Positive                                      0\n",
       "Status_Alive                                                      0\n",
       "Status_Dead                                                       0\n",
       "dtype: int64"
      ]
     },
     "execution_count": 51,
     "metadata": {},
     "output_type": "execute_result"
    }
   ],
   "source": [
    "# checking for null values\n",
    "df.isnull().sum()"
   ]
  },
  {
   "cell_type": "code",
   "execution_count": 52,
   "metadata": {},
   "outputs": [
    {
     "data": {
      "text/html": [
       "<div>\n",
       "<style scoped>\n",
       "    .dataframe tbody tr th:only-of-type {\n",
       "        vertical-align: middle;\n",
       "    }\n",
       "\n",
       "    .dataframe tbody tr th {\n",
       "        vertical-align: top;\n",
       "    }\n",
       "\n",
       "    .dataframe thead th {\n",
       "        text-align: right;\n",
       "    }\n",
       "</style>\n",
       "<table border=\"1\" class=\"dataframe\">\n",
       "  <thead>\n",
       "    <tr style=\"text-align: right;\">\n",
       "      <th></th>\n",
       "      <th>Age</th>\n",
       "      <th>Tumor Size</th>\n",
       "      <th>Regional Node Examined</th>\n",
       "      <th>Reginol Node Positive</th>\n",
       "      <th>Survival Months</th>\n",
       "      <th>survival_period</th>\n",
       "      <th>Race_Black</th>\n",
       "      <th>Race_Other (American Indian/AK Native, Asian/Pacific Islander)</th>\n",
       "      <th>Race_White</th>\n",
       "      <th>Marital Status_Divorced</th>\n",
       "      <th>...</th>\n",
       "      <th>Grade_Undifferentiated; anaplastic; Grade IV</th>\n",
       "      <th>Grade_Well differentiated; Grade I</th>\n",
       "      <th>A Stage_Distant</th>\n",
       "      <th>A Stage_Regional</th>\n",
       "      <th>Estrogen Status_Negative</th>\n",
       "      <th>Estrogen Status_Positive</th>\n",
       "      <th>Progesterone Status_Negative</th>\n",
       "      <th>Progesterone Status_Positive</th>\n",
       "      <th>Status_Alive</th>\n",
       "      <th>Status_Dead</th>\n",
       "    </tr>\n",
       "  </thead>\n",
       "  <tbody>\n",
       "    <tr>\n",
       "      <th>count</th>\n",
       "      <td>3396.000000</td>\n",
       "      <td>3396.000000</td>\n",
       "      <td>3396.000000</td>\n",
       "      <td>3396.000000</td>\n",
       "      <td>3396.000000</td>\n",
       "      <td>3396.000000</td>\n",
       "      <td>3396.000000</td>\n",
       "      <td>3396.000000</td>\n",
       "      <td>3396.000000</td>\n",
       "      <td>3396.000000</td>\n",
       "      <td>...</td>\n",
       "      <td>3396.000000</td>\n",
       "      <td>3396.000000</td>\n",
       "      <td>3396.000000</td>\n",
       "      <td>3396.000000</td>\n",
       "      <td>3396.000000</td>\n",
       "      <td>3396.000000</td>\n",
       "      <td>3396.000000</td>\n",
       "      <td>3396.000000</td>\n",
       "      <td>3396.000000</td>\n",
       "      <td>3396.000000</td>\n",
       "    </tr>\n",
       "    <tr>\n",
       "      <th>mean</th>\n",
       "      <td>54.078622</td>\n",
       "      <td>30.824499</td>\n",
       "      <td>14.438751</td>\n",
       "      <td>4.259717</td>\n",
       "      <td>65.664605</td>\n",
       "      <td>5.919906</td>\n",
       "      <td>0.073616</td>\n",
       "      <td>0.078033</td>\n",
       "      <td>0.848351</td>\n",
       "      <td>0.120730</td>\n",
       "      <td>...</td>\n",
       "      <td>0.004417</td>\n",
       "      <td>0.134865</td>\n",
       "      <td>0.023557</td>\n",
       "      <td>0.976443</td>\n",
       "      <td>0.067432</td>\n",
       "      <td>0.932568</td>\n",
       "      <td>0.172556</td>\n",
       "      <td>0.827444</td>\n",
       "      <td>0.821849</td>\n",
       "      <td>0.178151</td>\n",
       "    </tr>\n",
       "    <tr>\n",
       "      <th>std</th>\n",
       "      <td>9.032750</td>\n",
       "      <td>21.272711</td>\n",
       "      <td>8.136759</td>\n",
       "      <td>5.206231</td>\n",
       "      <td>20.428510</td>\n",
       "      <td>1.689979</td>\n",
       "      <td>0.261183</td>\n",
       "      <td>0.268263</td>\n",
       "      <td>0.358733</td>\n",
       "      <td>0.325862</td>\n",
       "      <td>...</td>\n",
       "      <td>0.066323</td>\n",
       "      <td>0.341629</td>\n",
       "      <td>0.151687</td>\n",
       "      <td>0.151687</td>\n",
       "      <td>0.250806</td>\n",
       "      <td>0.250806</td>\n",
       "      <td>0.377919</td>\n",
       "      <td>0.377919</td>\n",
       "      <td>0.382696</td>\n",
       "      <td>0.382696</td>\n",
       "    </tr>\n",
       "    <tr>\n",
       "      <th>min</th>\n",
       "      <td>30.000000</td>\n",
       "      <td>1.000000</td>\n",
       "      <td>1.000000</td>\n",
       "      <td>1.000000</td>\n",
       "      <td>1.000000</td>\n",
       "      <td>1.000000</td>\n",
       "      <td>0.000000</td>\n",
       "      <td>0.000000</td>\n",
       "      <td>0.000000</td>\n",
       "      <td>0.000000</td>\n",
       "      <td>...</td>\n",
       "      <td>0.000000</td>\n",
       "      <td>0.000000</td>\n",
       "      <td>0.000000</td>\n",
       "      <td>0.000000</td>\n",
       "      <td>0.000000</td>\n",
       "      <td>0.000000</td>\n",
       "      <td>0.000000</td>\n",
       "      <td>0.000000</td>\n",
       "      <td>0.000000</td>\n",
       "      <td>0.000000</td>\n",
       "    </tr>\n",
       "    <tr>\n",
       "      <th>25%</th>\n",
       "      <td>47.000000</td>\n",
       "      <td>16.000000</td>\n",
       "      <td>9.000000</td>\n",
       "      <td>1.000000</td>\n",
       "      <td>54.000000</td>\n",
       "      <td>5.000000</td>\n",
       "      <td>0.000000</td>\n",
       "      <td>0.000000</td>\n",
       "      <td>1.000000</td>\n",
       "      <td>0.000000</td>\n",
       "      <td>...</td>\n",
       "      <td>0.000000</td>\n",
       "      <td>0.000000</td>\n",
       "      <td>0.000000</td>\n",
       "      <td>1.000000</td>\n",
       "      <td>0.000000</td>\n",
       "      <td>1.000000</td>\n",
       "      <td>0.000000</td>\n",
       "      <td>1.000000</td>\n",
       "      <td>1.000000</td>\n",
       "      <td>0.000000</td>\n",
       "    </tr>\n",
       "    <tr>\n",
       "      <th>50%</th>\n",
       "      <td>54.000000</td>\n",
       "      <td>25.000000</td>\n",
       "      <td>14.000000</td>\n",
       "      <td>2.000000</td>\n",
       "      <td>67.000000</td>\n",
       "      <td>6.000000</td>\n",
       "      <td>0.000000</td>\n",
       "      <td>0.000000</td>\n",
       "      <td>1.000000</td>\n",
       "      <td>0.000000</td>\n",
       "      <td>...</td>\n",
       "      <td>0.000000</td>\n",
       "      <td>0.000000</td>\n",
       "      <td>0.000000</td>\n",
       "      <td>1.000000</td>\n",
       "      <td>0.000000</td>\n",
       "      <td>1.000000</td>\n",
       "      <td>0.000000</td>\n",
       "      <td>1.000000</td>\n",
       "      <td>1.000000</td>\n",
       "      <td>0.000000</td>\n",
       "    </tr>\n",
       "    <tr>\n",
       "      <th>75%</th>\n",
       "      <td>62.000000</td>\n",
       "      <td>39.000000</td>\n",
       "      <td>19.000000</td>\n",
       "      <td>5.000000</td>\n",
       "      <td>82.000000</td>\n",
       "      <td>7.000000</td>\n",
       "      <td>0.000000</td>\n",
       "      <td>0.000000</td>\n",
       "      <td>1.000000</td>\n",
       "      <td>0.000000</td>\n",
       "      <td>...</td>\n",
       "      <td>0.000000</td>\n",
       "      <td>0.000000</td>\n",
       "      <td>0.000000</td>\n",
       "      <td>1.000000</td>\n",
       "      <td>0.000000</td>\n",
       "      <td>1.000000</td>\n",
       "      <td>0.000000</td>\n",
       "      <td>1.000000</td>\n",
       "      <td>1.000000</td>\n",
       "      <td>0.000000</td>\n",
       "    </tr>\n",
       "    <tr>\n",
       "      <th>max</th>\n",
       "      <td>69.000000</td>\n",
       "      <td>140.000000</td>\n",
       "      <td>61.000000</td>\n",
       "      <td>46.000000</td>\n",
       "      <td>96.000000</td>\n",
       "      <td>8.000000</td>\n",
       "      <td>1.000000</td>\n",
       "      <td>1.000000</td>\n",
       "      <td>1.000000</td>\n",
       "      <td>1.000000</td>\n",
       "      <td>...</td>\n",
       "      <td>1.000000</td>\n",
       "      <td>1.000000</td>\n",
       "      <td>1.000000</td>\n",
       "      <td>1.000000</td>\n",
       "      <td>1.000000</td>\n",
       "      <td>1.000000</td>\n",
       "      <td>1.000000</td>\n",
       "      <td>1.000000</td>\n",
       "      <td>1.000000</td>\n",
       "      <td>1.000000</td>\n",
       "    </tr>\n",
       "  </tbody>\n",
       "</table>\n",
       "<p>8 rows × 38 columns</p>\n",
       "</div>"
      ],
      "text/plain": [
       "               Age   Tumor Size  Regional Node Examined  \\\n",
       "count  3396.000000  3396.000000             3396.000000   \n",
       "mean     54.078622    30.824499               14.438751   \n",
       "std       9.032750    21.272711                8.136759   \n",
       "min      30.000000     1.000000                1.000000   \n",
       "25%      47.000000    16.000000                9.000000   \n",
       "50%      54.000000    25.000000               14.000000   \n",
       "75%      62.000000    39.000000               19.000000   \n",
       "max      69.000000   140.000000               61.000000   \n",
       "\n",
       "       Reginol Node Positive  Survival Months  survival_period   Race_Black  \\\n",
       "count            3396.000000      3396.000000      3396.000000  3396.000000   \n",
       "mean                4.259717        65.664605         5.919906     0.073616   \n",
       "std                 5.206231        20.428510         1.689979     0.261183   \n",
       "min                 1.000000         1.000000         1.000000     0.000000   \n",
       "25%                 1.000000        54.000000         5.000000     0.000000   \n",
       "50%                 2.000000        67.000000         6.000000     0.000000   \n",
       "75%                 5.000000        82.000000         7.000000     0.000000   \n",
       "max                46.000000        96.000000         8.000000     1.000000   \n",
       "\n",
       "       Race_Other (American Indian/AK Native, Asian/Pacific Islander)  \\\n",
       "count                                        3396.000000                \n",
       "mean                                            0.078033                \n",
       "std                                             0.268263                \n",
       "min                                             0.000000                \n",
       "25%                                             0.000000                \n",
       "50%                                             0.000000                \n",
       "75%                                             0.000000                \n",
       "max                                             1.000000                \n",
       "\n",
       "        Race_White  Marital Status_Divorced  ...  \\\n",
       "count  3396.000000              3396.000000  ...   \n",
       "mean      0.848351                 0.120730  ...   \n",
       "std       0.358733                 0.325862  ...   \n",
       "min       0.000000                 0.000000  ...   \n",
       "25%       1.000000                 0.000000  ...   \n",
       "50%       1.000000                 0.000000  ...   \n",
       "75%       1.000000                 0.000000  ...   \n",
       "max       1.000000                 1.000000  ...   \n",
       "\n",
       "       Grade_Undifferentiated; anaplastic; Grade IV  \\\n",
       "count                                   3396.000000   \n",
       "mean                                       0.004417   \n",
       "std                                        0.066323   \n",
       "min                                        0.000000   \n",
       "25%                                        0.000000   \n",
       "50%                                        0.000000   \n",
       "75%                                        0.000000   \n",
       "max                                        1.000000   \n",
       "\n",
       "       Grade_Well differentiated; Grade I  A Stage_Distant  A Stage_Regional  \\\n",
       "count                         3396.000000      3396.000000       3396.000000   \n",
       "mean                             0.134865         0.023557          0.976443   \n",
       "std                              0.341629         0.151687          0.151687   \n",
       "min                              0.000000         0.000000          0.000000   \n",
       "25%                              0.000000         0.000000          1.000000   \n",
       "50%                              0.000000         0.000000          1.000000   \n",
       "75%                              0.000000         0.000000          1.000000   \n",
       "max                              1.000000         1.000000          1.000000   \n",
       "\n",
       "       Estrogen Status_Negative  Estrogen Status_Positive  \\\n",
       "count               3396.000000               3396.000000   \n",
       "mean                   0.067432                  0.932568   \n",
       "std                    0.250806                  0.250806   \n",
       "min                    0.000000                  0.000000   \n",
       "25%                    0.000000                  1.000000   \n",
       "50%                    0.000000                  1.000000   \n",
       "75%                    0.000000                  1.000000   \n",
       "max                    1.000000                  1.000000   \n",
       "\n",
       "       Progesterone Status_Negative  Progesterone Status_Positive  \\\n",
       "count                   3396.000000                   3396.000000   \n",
       "mean                       0.172556                      0.827444   \n",
       "std                        0.377919                      0.377919   \n",
       "min                        0.000000                      0.000000   \n",
       "25%                        0.000000                      1.000000   \n",
       "50%                        0.000000                      1.000000   \n",
       "75%                        0.000000                      1.000000   \n",
       "max                        1.000000                      1.000000   \n",
       "\n",
       "       Status_Alive  Status_Dead  \n",
       "count   3396.000000  3396.000000  \n",
       "mean       0.821849     0.178151  \n",
       "std        0.382696     0.382696  \n",
       "min        0.000000     0.000000  \n",
       "25%        1.000000     0.000000  \n",
       "50%        1.000000     0.000000  \n",
       "75%        1.000000     0.000000  \n",
       "max        1.000000     1.000000  \n",
       "\n",
       "[8 rows x 38 columns]"
      ]
     },
     "execution_count": 52,
     "metadata": {},
     "output_type": "execute_result"
    }
   ],
   "source": [
    "# description of table attributes\n",
    "df.describe()"
   ]
  },
  {
   "cell_type": "code",
   "execution_count": 53,
   "metadata": {},
   "outputs": [
    {
     "data": {
      "text/plain": [
       "survival_period\n",
       "5.0    739\n",
       "7.0    731\n",
       "6.0    725\n",
       "8.0    674\n",
       "4.0    225\n",
       "3.0    117\n",
       "2.0    114\n",
       "1.0     71\n",
       "Name: count, dtype: int64"
      ]
     },
     "execution_count": 53,
     "metadata": {},
     "output_type": "execute_result"
    }
   ],
   "source": [
    "# count values for 'survival_period'\n",
    "df['survival_period'].value_counts()"
   ]
  },
  {
   "cell_type": "code",
   "execution_count": 54,
   "metadata": {},
   "outputs": [
    {
     "name": "stderr",
     "output_type": "stream",
     "text": [
      "C:\\Users\\ADITYA\\AppData\\Local\\Temp\\ipykernel_4040\\3687392531.py:3: FutureWarning: \n",
      "\n",
      "Passing `palette` without assigning `hue` is deprecated and will be removed in v0.14.0. Assign the `x` variable to `hue` and set `legend=False` for the same effect.\n",
      "\n",
      "  sns.countplot(x=\"survival_period\", data=df, palette='magma')\n"
     ]
    },
    {
     "data": {
      "text/plain": [
       "<Axes: xlabel='survival_period', ylabel='count'>"
      ]
     },
     "execution_count": 54,
     "metadata": {},
     "output_type": "execute_result"
    },
    {
     "data": {
      "image/png": "[encoded data removed]",
      "text/plain": [
       "<Figure size 800x700 with 1 Axes>"
      ]
     },
     "metadata": {},
     "output_type": "display_data"
    }
   ],
   "source": [
    "# countplot for 'survival_period'\n",
    "plt.figure(figsize = (8,7))\n",
    "sns.countplot(x=\"survival_period\", data=df, palette='magma')"
   ]
  },
  {
   "cell_type": "code",
   "execution_count": 55,
   "metadata": {},
   "outputs": [],
   "source": [
    "# heatmap for columns\n",
    "# plt.figure(figsize=(20, 18))\n",
    "# sns.heatmap(df.corr(), annot=True, linewidths=.5, cmap=\"Purples\")\n",
    "# plt.show()"
   ]
  },
  {
   "cell_type": "code",
   "execution_count": 56,
   "metadata": {},
   "outputs": [],
   "source": [
    "# pairplot for columns\n",
    "# sns.pairplot(df[df.columns],hue = 'survival_period', palette='Blues')"
   ]
  },
  {
   "cell_type": "code",
   "execution_count": 57,
   "metadata": {},
   "outputs": [
    {
     "name": "stdout",
     "output_type": "stream",
     "text": [
      "Shape of training set: (3056, 37)\n",
      "Shape of test set: (340, 37)\n"
     ]
    }
   ],
   "source": [
    "# splitting data into training and testing\n",
    "\n",
    "from sklearn.model_selection import train_test_split\n",
    "\n",
    "X_train, X_test, y_train, y_test = train_test_split(\n",
    "                df.drop('survival_period', axis=1),\n",
    "                df['survival_period'],\n",
    "                test_size=0.1,\n",
    "                random_state=42)\n",
    "\n",
    "print(\"Shape of training set:\", X_train.shape)\n",
    "print(\"Shape of test set:\", X_test.shape)"
   ]
  },
  {
   "cell_type": "code",
   "execution_count": 58,
   "metadata": {},
   "outputs": [],
   "source": [
    "#standardising the data\n",
    "\n",
    "from sklearn.preprocessing import StandardScaler\n",
    "\n",
    "ss = StandardScaler()\n",
    "X_train = ss.fit_transform(X_train)\n",
    "X_test = ss.fit_transform(X_test)"
   ]
  },
  {
   "cell_type": "code",
   "execution_count": 59,
   "metadata": {},
   "outputs": [],
   "source": [
    "# Logistic Regression Model\n",
    "\n",
    "from sklearn.linear_model import LogisticRegression"
   ]
  },
  {
   "cell_type": "code",
   "execution_count": 60,
   "metadata": {},
   "outputs": [],
   "source": [
    "logreg = LogisticRegression(max_iter=1000)\n",
    "logreg.fit(X_train, y_train)\n",
    "predictions1 = logreg.predict(X_test)"
   ]
  },
  {
   "cell_type": "code",
   "execution_count": 61,
   "metadata": {},
   "outputs": [
    {
     "name": "stdout",
     "output_type": "stream",
     "text": [
      "Confusion Matrix: \n",
      " [[ 3  7  0  0  0  0  0  0]\n",
      " [ 0  9  4  4  0  0  0  0]\n",
      " [ 0  2  3 14  0  0  0  0]\n",
      " [ 0  0  0  7 16  0  0  0]\n",
      " [ 0  0  0  0 53 13  0  0]\n",
      " [ 0  0  0  0  0 66  6  0]\n",
      " [ 0  0  0  0  0  0 65  1]\n",
      " [ 0  0  0  0  0  0  0 67]]\n",
      "\n",
      "\n",
      "              precision    recall  f1-score   support\n",
      "\n",
      "         1.0       1.00      0.30      0.46        10\n",
      "         2.0       0.50      0.53      0.51        17\n",
      "         3.0       0.43      0.16      0.23        19\n",
      "         4.0       0.28      0.30      0.29        23\n",
      "         5.0       0.77      0.80      0.79        66\n",
      "         6.0       0.84      0.92      0.87        72\n",
      "         7.0       0.92      0.98      0.95        66\n",
      "         8.0       0.99      1.00      0.99        67\n",
      "\n",
      "    accuracy                           0.80       340\n",
      "   macro avg       0.71      0.62      0.64       340\n",
      "weighted avg       0.80      0.80      0.79       340\n",
      "\n"
     ]
    }
   ],
   "source": [
    "# confusion matrix for logistic regression\n",
    "\n",
    "from sklearn.metrics import confusion_matrix, classification_report\n",
    "\n",
    "print(\"Confusion Matrix: \\n\", confusion_matrix(y_test, predictions1))\n",
    "print('\\n')\n",
    "print(classification_report(y_test, predictions1, zero_division=1))"
   ]
  },
  {
   "cell_type": "code",
   "execution_count": 62,
   "metadata": {},
   "outputs": [
    {
     "name": "stdout",
     "output_type": "stream",
     "text": [
      "Accuracy of the Logistic Regression Model is:  0.8029411764705883\n"
     ]
    }
   ],
   "source": [
    "# accuracy of logistic regression\n",
    "\n",
    "from sklearn.metrics import accuracy_score\n",
    "\n",
    "logreg_acc = accuracy_score(y_test, predictions1)\n",
    "print(\"Accuracy of the Logistic Regression Model is: \", logreg_acc)"
   ]
  },
  {
   "cell_type": "code",
   "execution_count": 63,
   "metadata": {},
   "outputs": [],
   "source": [
    "# KNN Classifier\n",
    "\n",
    "from sklearn.neighbors import KNeighborsClassifier"
   ]
  },
  {
   "cell_type": "code",
   "execution_count": 64,
   "metadata": {},
   "outputs": [],
   "source": [
    "# to find which value shows the lowest mean error\n",
    "error_rate = []\n",
    "\n",
    "for i in range(1,42):\n",
    "    knn = KNeighborsClassifier(n_neighbors=i)\n",
    "    knn.fit(X_train, y_train)\n",
    "    pred_i = knn.predict(X_test)\n",
    "    error_rate.append(np.mean(pred_i != y_test))"
   ]
  },
  {
   "cell_type": "code",
   "execution_count": 65,
   "metadata": {},
   "outputs": [
    {
     "data": {
      "image/png": "[encoded data removed]",
      "text/plain": [
       "<Figure size 1200x600 with 1 Axes>"
      ]
     },
     "metadata": {},
     "output_type": "display_data"
    }
   ],
   "source": [
    "# plotting error_rate v/s k-value\n",
    "\n",
    "plt.figure(figsize=(12,6))\n",
    "plt.plot(range(1,42), error_rate, color='purple', linestyle=\"--\",\n",
    "         marker='o', markersize=10, markerfacecolor='b')\n",
    "plt.title('Error_Rate vs K-value')\n",
    "plt.show()"
   ]
  },
  {
   "cell_type": "code",
   "execution_count": 66,
   "metadata": {},
   "outputs": [],
   "source": [
    "knn = KNeighborsClassifier(n_neighbors=9)\n",
    "knn.fit(X_train, y_train)\n",
    "predictions2 = knn.predict(X_test)"
   ]
  },
  {
   "cell_type": "code",
   "execution_count": 67,
   "metadata": {},
   "outputs": [
    {
     "name": "stdout",
     "output_type": "stream",
     "text": [
      "[[ 1  3  1  0  4  1  0  0]\n",
      " [ 2  4  4  2  4  1  0  0]\n",
      " [ 0  1  0  6 10  2  0  0]\n",
      " [ 0  0  3  7  9  3  0  1]\n",
      " [ 0  0  1  3 33 22  3  4]\n",
      " [ 0  0  0  2 10 39 18  3]\n",
      " [ 0  0  0  0  6 16 32 12]\n",
      " [ 0  0  0  0  6  4 27 30]]\n",
      "\n",
      "\n",
      "              precision    recall  f1-score   support\n",
      "\n",
      "         1.0       0.33      0.10      0.15        10\n",
      "         2.0       0.50      0.24      0.32        17\n",
      "         3.0       0.00      0.00      1.00        19\n",
      "         4.0       0.35      0.30      0.33        23\n",
      "         5.0       0.40      0.50      0.45        66\n",
      "         6.0       0.44      0.54      0.49        72\n",
      "         7.0       0.40      0.48      0.44        66\n",
      "         8.0       0.60      0.45      0.51        67\n",
      "\n",
      "    accuracy                           0.43       340\n",
      "   macro avg       0.38      0.33      0.46       340\n",
      "weighted avg       0.43      0.43      0.47       340\n",
      "\n"
     ]
    }
   ],
   "source": [
    "# confusion matrix for knn\n",
    "\n",
    "print(confusion_matrix(y_test, predictions2))\n",
    "print(\"\\n\")\n",
    "print(classification_report(y_test, predictions2, zero_division=1))"
   ]
  },
  {
   "cell_type": "code",
   "execution_count": 68,
   "metadata": {},
   "outputs": [
    {
     "name": "stdout",
     "output_type": "stream",
     "text": [
      "Accuracy of K Neighbors Classifier Model is:  0.4294117647058823\n"
     ]
    }
   ],
   "source": [
    "# accuracy for knn model\n",
    "\n",
    "knn_model_acc = accuracy_score(y_test, predictions2)\n",
    "print(\"Accuracy of K Neighbors Classifier Model is: \", knn_model_acc)"
   ]
  },
  {
   "cell_type": "code",
   "execution_count": 69,
   "metadata": {},
   "outputs": [],
   "source": [
    "# Random Forest classifier\n",
    "\n",
    "from sklearn.ensemble import RandomForestClassifier"
   ]
  },
  {
   "cell_type": "code",
   "execution_count": 70,
   "metadata": {},
   "outputs": [],
   "source": [
    "rfc = RandomForestClassifier(n_estimators=300)\n",
    "rfc.fit(X_train, y_train)\n",
    "predictions3 = rfc.predict(X_test)"
   ]
  },
  {
   "cell_type": "code",
   "execution_count": 71,
   "metadata": {},
   "outputs": [
    {
     "name": "stdout",
     "output_type": "stream",
     "text": [
      "Confusion Matrix: \n",
      " [[ 1  6  0  0  3  0  0  0]\n",
      " [ 2  1 11  2  1  0  0  0]\n",
      " [ 0  0  6 11  2  0  0  0]\n",
      " [ 0  0  0  9 14  0  0  0]\n",
      " [ 0  0  0  0 55 11  0  0]\n",
      " [ 0  0  0  0  0 66  6  0]\n",
      " [ 0  0  0  0  0  0 64  2]\n",
      " [ 0  0  0  0  0  0  0 67]]\n",
      "\n",
      "\n",
      "              precision    recall  f1-score   support\n",
      "\n",
      "         1.0       0.33      0.10      0.15        10\n",
      "         2.0       0.14      0.06      0.08        17\n",
      "         3.0       0.35      0.32      0.33        19\n",
      "         4.0       0.41      0.39      0.40        23\n",
      "         5.0       0.73      0.83      0.78        66\n",
      "         6.0       0.86      0.92      0.89        72\n",
      "         7.0       0.91      0.97      0.94        66\n",
      "         8.0       0.97      1.00      0.99        67\n",
      "\n",
      "    accuracy                           0.79       340\n",
      "   macro avg       0.59      0.57      0.57       340\n",
      "weighted avg       0.76      0.79      0.77       340\n",
      "\n"
     ]
    }
   ],
   "source": [
    "# confusion matrix for random forest classifier\n",
    "\n",
    "print(\"Confusion Matrix: \\n\", confusion_matrix(y_test, predictions3))\n",
    "print(\"\\n\")\n",
    "print(classification_report(y_test, predictions3, zero_division=1))"
   ]
  },
  {
   "cell_type": "code",
   "execution_count": 72,
   "metadata": {},
   "outputs": [
    {
     "name": "stdout",
     "output_type": "stream",
     "text": [
      "Accuracy of Random Forests Model is:  0.7911764705882353\n"
     ]
    }
   ],
   "source": [
    "# accuracy for random forest classifier\n",
    "\n",
    "rfc_acc = accuracy_score(y_test, predictions3)\n",
    "print(\"Accuracy of Random Forests Model is: \", rfc_acc)"
   ]
  },
  {
   "cell_type": "code",
   "execution_count": 73,
   "metadata": {},
   "outputs": [],
   "source": [
    "# State Vector Machine\n",
    "\n",
    "from sklearn.svm import SVC"
   ]
  },
  {
   "cell_type": "code",
   "execution_count": 74,
   "metadata": {},
   "outputs": [],
   "source": [
    "svc_model = SVC(kernel=\"rbf\")\n",
    "svc_model.fit(X_train, y_train)\n",
    "predictions4 = svc_model.predict(X_test)"
   ]
  },
  {
   "cell_type": "code",
   "execution_count": 75,
   "metadata": {},
   "outputs": [
    {
     "name": "stdout",
     "output_type": "stream",
     "text": [
      "Confusion Matrix: \n",
      " [[ 5  5  0  0  0  0  0  0]\n",
      " [ 1  6  3  5  2  0  0  0]\n",
      " [ 0  3  1  9  6  0  0  0]\n",
      " [ 0  0  1  5 17  0  0  0]\n",
      " [ 0  0  0  1 49 16  0  0]\n",
      " [ 0  0  0  0  0 63  9  0]\n",
      " [ 0  0  0  0  0  1 59  6]\n",
      " [ 0  0  0  0  3  0  9 55]]\n",
      "\n",
      "\n",
      "              precision    recall  f1-score   support\n",
      "\n",
      "         1.0       0.83      0.50      0.62        10\n",
      "         2.0       0.43      0.35      0.39        17\n",
      "         3.0       0.20      0.05      0.08        19\n",
      "         4.0       0.25      0.22      0.23        23\n",
      "         5.0       0.64      0.74      0.69        66\n",
      "         6.0       0.79      0.88      0.83        72\n",
      "         7.0       0.77      0.89      0.83        66\n",
      "         8.0       0.90      0.82      0.86        67\n",
      "\n",
      "    accuracy                           0.71       340\n",
      "   macro avg       0.60      0.56      0.57       340\n",
      "weighted avg       0.69      0.71      0.70       340\n",
      "\n"
     ]
    }
   ],
   "source": [
    "# confusion matrix for svm\n",
    "\n",
    "print(\"Confusion Matrix: \\n\", confusion_matrix(y_test, predictions4))\n",
    "print(\"\\n\")\n",
    "print(classification_report(y_test, predictions4, zero_division=1))"
   ]
  },
  {
   "cell_type": "code",
   "execution_count": 76,
   "metadata": {},
   "outputs": [
    {
     "name": "stdout",
     "output_type": "stream",
     "text": [
      "Accuracy of SVM model is:  0.7147058823529412\n"
     ]
    }
   ],
   "source": [
    "# accuracy of svm\n",
    "\n",
    "svm_acc = accuracy_score(y_test, predictions4)\n",
    "print(\"Accuracy of SVM model is: \", svm_acc)"
   ]
  },
  {
   "cell_type": "code",
   "execution_count": 77,
   "metadata": {},
   "outputs": [],
   "source": [
    "# Naive Bayes Model\n",
    "\n",
    "from sklearn.naive_bayes import GaussianNB"
   ]
  },
  {
   "cell_type": "code",
   "execution_count": 78,
   "metadata": {},
   "outputs": [],
   "source": [
    "nb_model = GaussianNB()\n",
    "nb_model.fit(X_train, y_train)\n",
    "predictions5 = nb_model.predict(X_test)"
   ]
  },
  {
   "cell_type": "code",
   "execution_count": 79,
   "metadata": {},
   "outputs": [
    {
     "name": "stdout",
     "output_type": "stream",
     "text": [
      "Confusion Matrix: \n",
      " [[ 0 10  0  0  0  0  0  0]\n",
      " [ 0  7 10  0  0  0  0  0]\n",
      " [ 0  1 14  0  4  0  0  0]\n",
      " [ 0  0  3  0 20  0  0  0]\n",
      " [ 0  0  0  0 51 15  0  0]\n",
      " [ 0  0  0  0  0 66  6  0]\n",
      " [ 0  0  1  0  0  0 63  2]\n",
      " [ 0  0  0  0  0  0  7 60]]\n",
      "\n",
      "\n",
      "              precision    recall  f1-score   support\n",
      "\n",
      "         1.0       1.00      0.00      0.00        10\n",
      "         2.0       0.39      0.41      0.40        17\n",
      "         3.0       0.50      0.74      0.60        19\n",
      "         4.0       1.00      0.00      0.00        23\n",
      "         5.0       0.68      0.77      0.72        66\n",
      "         6.0       0.81      0.92      0.86        72\n",
      "         7.0       0.83      0.95      0.89        66\n",
      "         8.0       0.97      0.90      0.93        67\n",
      "\n",
      "    accuracy                           0.77       340\n",
      "   macro avg       0.77      0.59      0.55       340\n",
      "weighted avg       0.80      0.77      0.73       340\n",
      "\n"
     ]
    }
   ],
   "source": [
    "# confusion matrix for naive bayes model\n",
    "\n",
    "print(\"Confusion Matrix: \\n\", confusion_matrix(y_test, predictions5))\n",
    "print(\"\\n\")\n",
    "print(classification_report(y_test, predictions5, zero_division=1))"
   ]
  },
  {
   "cell_type": "code",
   "execution_count": 80,
   "metadata": {},
   "outputs": [
    {
     "name": "stdout",
     "output_type": "stream",
     "text": [
      "Accuracy of Naive Bayes model is:  0.7676470588235295\n"
     ]
    }
   ],
   "source": [
    "# accuracy for naive bayes model\n",
    "\n",
    "nb_acc = accuracy_score(y_test, predictions5)\n",
    "print(\"Accuracy of Naive Bayes model is: \", nb_acc)"
   ]
  },
  {
   "cell_type": "code",
   "execution_count": 81,
   "metadata": {},
   "outputs": [],
   "source": [
    "#Input parameters (37) for prediction\n",
    "input_data = [43,40,19,11,1,0,1,0,0,1,0,0,0,0,1,0,0,0,0,1,0,0,0,0,1,1,0,0,0,0,1,0,1,0,1,1,0]"
   ]
  },
  {
   "cell_type": "code",
   "execution_count": 82,
   "metadata": {},
   "outputs": [
    {
     "name": "stderr",
     "output_type": "stream",
     "text": [
      "c:\\Users\\ADITYA\\AppData\\Local\\Programs\\Python\\Python312\\Lib\\site-packages\\sklearn\\base.py:465: UserWarning: X does not have valid feature names, but StandardScaler was fitted with feature names\n",
      "  warnings.warn(\n"
     ]
    }
   ],
   "source": [
    "# Scaling the new data using the standard scaler\n",
    "input_data_array = np.array(input_data).reshape(1, -1)\n",
    "input_data_array = ss.transform(input_data_array)"
   ]
  },
  {
   "cell_type": "code",
   "execution_count": 83,
   "metadata": {},
   "outputs": [
    {
     "name": "stdout",
     "output_type": "stream",
     "text": [
      "Predicted Survival Period:\n",
      "LR:  1.0\n",
      "KNN:  1.0\n",
      "RFC:  1.0\n",
      "SVM:  1.0\n",
      "NB:  2.0\n",
      "Average:  1.2\n"
     ]
    }
   ],
   "source": [
    "# Predicting the Survival Period (in years) with different models\n",
    "\n",
    "# Logistic Regression\n",
    "predicted_survival = logreg.predict(input_data_array)\n",
    "ps_logreg = predicted_survival[0]\n",
    "\n",
    "# KNN\n",
    "predicted_survival = knn.predict(input_data_array)\n",
    "ps_knn = predicted_survival[0]\n",
    "\n",
    "# Random Forest\n",
    "predicted_survival = rfc.predict(input_data_array)\n",
    "ps_rfc = predicted_survival[0]\n",
    "\n",
    "# SVM\n",
    "predicted_survival = svc_model.predict(input_data_array)\n",
    "ps_svm = predicted_survival[0]\n",
    "\n",
    "# Naive Bayes\n",
    "predicted_survival = nb_model.predict(input_data_array)\n",
    "ps_nb = predicted_survival[0]\n",
    "\n",
    "ps_avg = (ps_logreg + ps_knn + ps_rfc + ps_svm + ps_nb)/5\n",
    "\n",
    "print(\"Predicted Survival Period:\")\n",
    "print(\"LR: \", ps_logreg)\n",
    "print(\"KNN: \", ps_knn)\n",
    "print(\"RFC: \", ps_rfc)\n",
    "print(\"SVM: \", ps_svm)\n",
    "print(\"NB: \", ps_nb)\n",
    "print(\"Average: \", ps_avg)"
   ]
  }
 ],
 "metadata": {
  "kernelspec": {
   "display_name": "Python 3",
   "language": "python",
   "name": "python3"
  },
  "language_info": {
   "codemirror_mode": {
    "name": "ipython",
    "version": 3
   },
   "file_extension": ".py",
   "mimetype": "text/x-python",
   "name": "python",
   "nbconvert_exporter": "python",
   "pygments_lexer": "ipython3",
   "version": "3.12.0"
  }
 },
 "nbformat": 4,
 "nbformat_minor": 2
}
