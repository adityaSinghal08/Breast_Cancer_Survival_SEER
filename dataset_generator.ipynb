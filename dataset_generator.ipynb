{
 "cells": [
  {
   "cell_type": "code",
   "execution_count": 1,
   "metadata": {},
   "outputs": [],
   "source": [
    "import pandas as pd"
   ]
  },
  {
   "cell_type": "code",
   "execution_count": 2,
   "metadata": {},
   "outputs": [],
   "source": [
    "\n",
    "# Load your dataset\n",
    "df = pd.read_csv('raw_data.csv')"
   ]
  },
  {
   "cell_type": "code",
   "execution_count": 3,
   "metadata": {},
   "outputs": [],
   "source": [
    "# Convert 'months' column into 'year'\n",
    "df['survival_period'] = pd.cut(df['Survival Months'], bins=range(0, 108, 12), labels=False)\n",
    "df['survival_period'] = df['survival_period'] + 1"
   ]
  },
  {
   "cell_type": "code",
   "execution_count": 4,
   "metadata": {},
   "outputs": [],
   "source": [
    "# Dynamically map 'Race' values to numerical values\n",
    "target = 'Race'\n",
    "df = pd.get_dummies(df, columns=[target], prefix=target)\n",
    "new_cols = df.filter(like=target).columns\n",
    "df[new_cols] = df[new_cols].astype(int)"
   ]
  },
  {
   "cell_type": "code",
   "execution_count": 5,
   "metadata": {},
   "outputs": [],
   "source": [
    "# Dynamically map 'Marital Status' values to numerical values\n",
    "target = 'Marital Status'\n",
    "df = pd.get_dummies(df, columns=[target], prefix=target)\n",
    "new_cols = df.filter(like=target).columns\n",
    "df[new_cols] = df[new_cols].astype(int)"
   ]
  },
  {
   "cell_type": "code",
   "execution_count": 6,
   "metadata": {},
   "outputs": [],
   "source": [
    "# Dynamically map 'T Stage' values to numerical values\n",
    "target = 'T Stage'\n",
    "df = pd.get_dummies(df, columns=[target], prefix=target)\n",
    "new_cols = df.filter(like=target).columns\n",
    "df[new_cols] = df[new_cols].astype(int)"
   ]
  },
  {
   "cell_type": "code",
   "execution_count": 7,
   "metadata": {},
   "outputs": [],
   "source": [
    "# Dynamically map 'N Stage' values to numerical values\n",
    "target = 'N Stage'\n",
    "df = pd.get_dummies(df, columns=[target], prefix=target)\n",
    "new_cols = df.filter(like=target).columns\n",
    "df[new_cols] = df[new_cols].astype(int)"
   ]
  },
  {
   "cell_type": "code",
   "execution_count": 8,
   "metadata": {},
   "outputs": [],
   "source": [
    "# Dynamically map '6th Stage' values to numerical values\n",
    "target = '6th Stage'\n",
    "df = pd.get_dummies(df, columns=[target], prefix=target)\n",
    "new_cols = df.filter(like=target).columns\n",
    "df[new_cols] = df[new_cols].astype(int)"
   ]
  },
  {
   "cell_type": "code",
   "execution_count": 9,
   "metadata": {},
   "outputs": [],
   "source": [
    "# Dynamically map 'Grade' values to numerical values\n",
    "target = 'Grade'\n",
    "df = pd.get_dummies(df, columns=[target], prefix=target)\n",
    "new_cols = df.filter(like=target).columns\n",
    "df[new_cols] = df[new_cols].astype(int)"
   ]
  },
  {
   "cell_type": "code",
   "execution_count": 10,
   "metadata": {},
   "outputs": [],
   "source": [
    "# Dynamically map 'A Stage' values to numerical values\n",
    "target = 'A Stage'\n",
    "df = pd.get_dummies(df, columns=[target], prefix=target)\n",
    "new_cols = df.filter(like=target).columns\n",
    "df[new_cols] = df[new_cols].astype(int)"
   ]
  },
  {
   "cell_type": "code",
   "execution_count": 11,
   "metadata": {},
   "outputs": [],
   "source": [
    "# Dynamically map 'Estrogen Status' values to numerical values\n",
    "target = 'Estrogen Status'\n",
    "df = pd.get_dummies(df, columns=[target], prefix=target)\n",
    "new_cols = df.filter(like=target).columns\n",
    "df[new_cols] = df[new_cols].astype(int)"
   ]
  },
  {
   "cell_type": "code",
   "execution_count": 12,
   "metadata": {},
   "outputs": [],
   "source": [
    "# Dynamically map 'Progesterone Status' values to numerical values\n",
    "target = 'Progesterone Status'\n",
    "df = pd.get_dummies(df, columns=[target], prefix=target)\n",
    "new_cols = df.filter(like=target).columns\n",
    "df[new_cols] = df[new_cols].astype(int)"
   ]
  },
  {
   "cell_type": "code",
   "execution_count": 13,
   "metadata": {},
   "outputs": [],
   "source": [
    "# Dynamically map 'Status' values to numerical values\n",
    "target = 'Status'\n",
    "df = pd.get_dummies(df, columns=[target], prefix=target)\n",
    "new_cols = df.filter(like=target).columns\n",
    "df[new_cols] = df[new_cols].astype(int)"
   ]
  },
  {
   "cell_type": "code",
   "execution_count": 14,
   "metadata": {},
   "outputs": [
    {
     "name": "stdout",
     "output_type": "stream",
     "text": [
      "   Age  Unnamed: 3  Tumor Size  Regional Node Examined  Reginol Node Positive  \\\n",
      "0   43         NaN          40                      19                     11   \n",
      "1   47         NaN          45                      25                      9   \n",
      "2   67         NaN          25                       4                      1   \n",
      "3   46         NaN          19                      26                      1   \n",
      "4   63         NaN          35                      21                      5   \n",
      "\n",
      "   Survival Months  survival_period  Race_Black  \\\n",
      "0                1              1.0           0   \n",
      "1                2              1.0           0   \n",
      "2                2              1.0           0   \n",
      "3                2              1.0           0   \n",
      "4                3              1.0           0   \n",
      "\n",
      "   Race_Other (American Indian/AK Native, Asian/Pacific Islander)  Race_White  \\\n",
      "0                                                  1                        0   \n",
      "1                                                  1                        0   \n",
      "2                                                  0                        1   \n",
      "3                                                  0                        1   \n",
      "4                                                  0                        1   \n",
      "\n",
      "   ...  Grade_Undifferentiated; anaplastic; Grade IV  \\\n",
      "0  ...                                             0   \n",
      "1  ...                                             0   \n",
      "2  ...                                             0   \n",
      "3  ...                                             0   \n",
      "4  ...                                             0   \n",
      "\n",
      "   Grade_Well differentiated; Grade I  A Stage_Distant  A Stage_Regional  \\\n",
      "0                                   0                0                 1   \n",
      "1                                   0                0                 1   \n",
      "2                                   0                0                 1   \n",
      "3                                   0                0                 1   \n",
      "4                                   0                0                 1   \n",
      "\n",
      "   Estrogen Status_Negative  Estrogen Status_Positive  \\\n",
      "0                         0                         1   \n",
      "1                         0                         1   \n",
      "2                         0                         1   \n",
      "3                         0                         1   \n",
      "4                         0                         1   \n",
      "\n",
      "   Progesterone Status_Negative  Progesterone Status_Positive  Status_Alive  \\\n",
      "0                             0                             1             1   \n",
      "1                             0                             1             1   \n",
      "2                             0                             1             0   \n",
      "3                             0                             1             0   \n",
      "4                             0                             1             0   \n",
      "\n",
      "   Status_Dead  \n",
      "0            0  \n",
      "1            0  \n",
      "2            1  \n",
      "3            1  \n",
      "4            1  \n",
      "\n",
      "[5 rows x 39 columns]\n"
     ]
    }
   ],
   "source": [
    "# Display the updated dataframe\n",
    "print(df.head())"
   ]
  },
  {
   "cell_type": "code",
   "execution_count": 15,
   "metadata": {},
   "outputs": [],
   "source": [
    "# Save the updated dataframe to a new CSV file\n",
    "df.to_csv('data.csv', index=False)"
   ]
  }
 ],
 "metadata": {
  "kernelspec": {
   "display_name": "Python 3",
   "language": "python",
   "name": "python3"
  },
  "language_info": {
   "codemirror_mode": {
    "name": "ipython",
    "version": 3
   },
   "file_extension": ".py",
   "mimetype": "text/x-python",
   "name": "python",
   "nbconvert_exporter": "python",
   "pygments_lexer": "ipython3",
   "version": "3.12.0"
  }
 },
 "nbformat": 4,
 "nbformat_minor": 2
}
